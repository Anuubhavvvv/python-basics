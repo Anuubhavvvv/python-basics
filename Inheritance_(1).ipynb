{
  "nbformat": 4,
  "nbformat_minor": 0,
  "metadata": {
    "colab": {
      "provenance": [],
      "include_colab_link": true
    },
    "kernelspec": {
      "name": "python3",
      "display_name": "Python 3"
    },
    "language_info": {
      "name": "python"
    }
  },
  "cells": [
    {
      "cell_type": "markdown",
      "metadata": {
        "id": "view-in-github",
        "colab_type": "text"
      },
      "source": [
        "<a href=\"https://colab.research.google.com/github/Anuubhavvvv/python-basics/blob/main/Inheritance_(1).ipynb\" target=\"_parent\"><img src=\"https://colab.research.google.com/assets/colab-badge.svg\" alt=\"Open In Colab\"/></a>"
      ]
    },
    {
      "cell_type": "code",
      "metadata": {
        "id": "e5E1vOZYMU1X"
      },
      "source": [
        "#single level inheritance\n",
        "class A:#Parent class of B\n",
        "\n",
        "  def feature1(self):\n",
        "    print('feature1 is working')\n",
        "\n",
        "  def feature2(self):\n",
        "    print('feature2 is working')\n",
        "\n",
        "class B(A):#Child class of A\n",
        "\n",
        "  def feature3(self):\n",
        "    print('feature3 is working')\n",
        "\n",
        "\n",
        "  def feature4(self):\n",
        "    print('feature4 is working')\n",
        "\n"
      ],
      "execution_count": null,
      "outputs": []
    },
    {
      "cell_type": "code",
      "metadata": {
        "id": "gF3jFtESM8-E"
      },
      "source": [
        "#Multilevel Inheritance\n",
        "class A:#Parent class of B\n",
        "\n",
        "  def feature1(self):\n",
        "    print('feature1 is working')\n",
        "\n",
        "  def feature2(self):\n",
        "    print('feature2 is working')\n",
        "\n",
        "class B(A):#Child class of A\n",
        "\n",
        "  def feature3(self):\n",
        "    print('feature3 is working')\n",
        "\n",
        "\n",
        "  def feature4(self):\n",
        "    print('feature4 is working')\n",
        "\n",
        "class C(B):#Child class of B\n",
        " def feature5(self):\n",
        "    print('feature5 is working')\n",
        "\n",
        " def feature6(self):\n",
        "    print('feature6 is working')"
      ],
      "execution_count": null,
      "outputs": []
    },
    {
      "cell_type": "code",
      "metadata": {
        "id": "QH3eLEYxN3bF"
      },
      "source": [
        "#Multiple Inheritance\n",
        "class A:#Parent class of C\n",
        "\n",
        "  def feature1(self):\n",
        "    print('feature1 is working')\n",
        "\n",
        "  def feature2(self):\n",
        "    print('feature2 is working')\n",
        "\n",
        "class B:#Parent class of C\n",
        "\n",
        "  def feature3(self):\n",
        "    print('feature3 is working')\n",
        "\n",
        "\n",
        "  def feature4(self):\n",
        "    print('feature4 is working')\n",
        "\n",
        "class C(A,B):#Child class of A and B\n",
        " def feature5(self):\n",
        "    print('feature5 is working')\n",
        "\n",
        " def feature6(self):\n",
        "    print('feature6 is working')"
      ],
      "execution_count": null,
      "outputs": []
    },
    {
      "cell_type": "code",
      "metadata": {
        "colab": {
          "base_uri": "https://localhost:8080/"
        },
        "id": "lx_NXbkSOYRA",
        "outputId": "7a72ff4b-c3a7-42a4-94ce-2faf47c317eb"
      },
      "source": [
        "class A:#Parent class of B\n",
        "\n",
        "  def __init__(self):\n",
        "    print('Class A works')\n",
        "\n",
        "  def feature1(self):\n",
        "    print('feature1 is working')\n",
        "\n",
        "  def feature2(self):\n",
        "    print('feature2 is working')\n",
        "\n",
        "class B(A):#Child class of A\n",
        "\n",
        "  def __init__(self):\n",
        "    super().__init__() #super method\n",
        "    print('Class B works')\n",
        "\n",
        "  def feature3(self):\n",
        "    print('feature3 is working')\n",
        "\n",
        "\n",
        "  def feature4(self):\n",
        "    print('feature4 is working')\n",
        "\n",
        "b1=B()"
      ],
      "execution_count": null,
      "outputs": [
        {
          "output_type": "stream",
          "text": [
            "Class A works\n",
            "Class B works\n"
          ],
          "name": "stdout"
        }
      ]
    },
    {
      "cell_type": "markdown",
      "metadata": {
        "id": "qu7rwad4QPti"
      },
      "source": [
        "By default, B will call the __init__ of itself only. Only when __init__ is not found in B, it will call the __init__ of parent class i.e. A"
      ]
    },
    {
      "cell_type": "markdown",
      "metadata": {
        "id": "TGrg3r2jSXKp"
      },
      "source": [
        "When you create object of child class it will call init of itself first. If you have super method then it will call the init of parent class first and then the child class"
      ]
    },
    {
      "cell_type": "code",
      "metadata": {
        "id": "9BUwZ51APsZx"
      },
      "source": [],
      "execution_count": null,
      "outputs": []
    }
  ]
}