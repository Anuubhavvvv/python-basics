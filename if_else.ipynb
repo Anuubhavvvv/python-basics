{
  "nbformat": 4,
  "nbformat_minor": 0,
  "metadata": {
    "colab": {
      "provenance": [],
      "include_colab_link": true
    },
    "kernelspec": {
      "name": "python3",
      "display_name": "Python 3"
    }
  },
  "cells": [
    {
      "cell_type": "markdown",
      "metadata": {
        "id": "view-in-github",
        "colab_type": "text"
      },
      "source": [
        "<a href=\"https://colab.research.google.com/github/Anuubhavvvv/python-basics/blob/main/if_else.ipynb\" target=\"_parent\"><img src=\"https://colab.research.google.com/assets/colab-badge.svg\" alt=\"Open In Colab\"/></a>"
      ]
    },
    {
      "cell_type": "code",
      "metadata": {
        "colab": {
          "base_uri": "https://localhost:8080/"
        },
        "id": "Qw76gOdM4DzI",
        "outputId": "c41bc05c-9c57-4f53-8d4e-f7cd58005251"
      },
      "source": [
        "a=int(input('enter value for a'))\n",
        "b=int(input('enter value for b'))\n",
        "\n",
        "if a>b:\n",
        "  print('a is greater')\n",
        "\n",
        "elif a==b:\n",
        "  print('Both are equal')\n",
        "\n",
        "else:\n",
        "  print('b is greater')"
      ],
      "execution_count": null,
      "outputs": [
        {
          "output_type": "stream",
          "text": [
            "enter value for a12\n",
            "enter value for b12\n",
            "Both are equal\n"
          ],
          "name": "stdout"
        }
      ]
    },
    {
      "cell_type": "code",
      "metadata": {
        "colab": {
          "base_uri": "https://localhost:8080/"
        },
        "id": "YdD9oOYaAT2M",
        "outputId": "2a2b3648-c14b-47b3-e837-2c4adf70be04"
      },
      "source": [
        "#Divisiblity test\n",
        "#Lets say we have 2,3 and 7 with us and we need to check this with the value given by the user\n",
        "\n",
        "a=int(input('enter value for a'))\n",
        "\n",
        "if a%2==0:\n",
        "  print('div. by 2')\n",
        "\n",
        "else:\n",
        "  print('not div by 2')\n",
        "\n",
        "if a%3==0:\n",
        "  print('div. by 3')\n",
        "\n",
        "else:\n",
        "  print('not div by 3')\n",
        "\n",
        "if a%7==0:\n",
        "  print('div. by 7')\n",
        "\n",
        "else:\n",
        "  print('not div by 7')\n",
        "\n"
      ],
      "execution_count": null,
      "outputs": [
        {
          "output_type": "stream",
          "text": [
            "enter value for a273\n",
            "not div by 2\n",
            "div. by 3\n",
            "div. by 7\n"
          ],
          "name": "stdout"
        }
      ]
    },
    {
      "cell_type": "code",
      "metadata": {
        "id": "Eog9oRSx4Dv0"
      },
      "source": [
        "#Logical Operators\n",
        "#AND\n",
        "#OR"
      ],
      "execution_count": null,
      "outputs": []
    },
    {
      "cell_type": "code",
      "metadata": {
        "colab": {
          "base_uri": "https://localhost:8080/"
        },
        "id": "bmQibtiM4Dru",
        "outputId": "85e08081-7795-4c98-9e16-e29e41606e43"
      },
      "source": [
        "a=int(input('enter value'))\n",
        "b=int(input('enter value'))\n",
        "c=int(input('enter value'))\n",
        "\n",
        "if a>b and b>c:\n",
        "  print('We get a valid output')\n",
        "\n",
        "else:\n",
        "  print('both the cond do not satisfy')"
      ],
      "execution_count": null,
      "outputs": [
        {
          "output_type": "stream",
          "text": [
            "enter value45\n",
            "enter value30\n",
            "enter value60\n",
            "both the cond do not satisfy\n"
          ],
          "name": "stdout"
        }
      ]
    },
    {
      "cell_type": "code",
      "metadata": {
        "colab": {
          "base_uri": "https://localhost:8080/"
        },
        "id": "bPlqdZy8Eo5Z",
        "outputId": "c18a31cd-b0e2-4ec1-c3de-42dc011c24af"
      },
      "source": [
        "a=int(input('enter value'))\n",
        "b=int(input('enter value'))\n",
        "c=int(input('enter value'))\n",
        "\n",
        "if a>b or b>c:\n",
        "  print('Either one or both cond are True')\n",
        "\n",
        "else:\n",
        "  print('both the cond are false')"
      ],
      "execution_count": null,
      "outputs": [
        {
          "output_type": "stream",
          "text": [
            "enter value12\n",
            "enter value7\n",
            "enter value8\n",
            "Either one or both cond are True\n"
          ],
          "name": "stdout"
        }
      ]
    },
    {
      "cell_type": "markdown",
      "metadata": {
        "id": "7fkP7_7kFlPN"
      },
      "source": [
        "Lets say we go to a fair , the entry fee for children less than equal to 4 yrs of age is 0 INR, fee for children in the age group of 5-18 yrs is 100 INR and for anyone more than 18 yrs of age is 150 INR. WAP to print the price of the ticket based on the age of the person"
      ]
    },
    {
      "cell_type": "code",
      "metadata": {
        "colab": {
          "base_uri": "https://localhost:8080/"
        },
        "id": "nBRX7Md3FNLN",
        "outputId": "7d0c4eae-6ff2-4128-83df-9e3eccf0d107"
      },
      "source": [
        "age=int(input('enter your age'))\n",
        "\n",
        "if age<=4:\n",
        "  price = 0\n",
        "\n",
        "elif age>4 and age<18:\n",
        "  price = 100\n",
        "\n",
        "else:\n",
        "  price=150\n",
        "\n",
        "print(price)"
      ],
      "execution_count": null,
      "outputs": [
        {
          "output_type": "stream",
          "text": [
            "enter your age28\n",
            "150\n"
          ],
          "name": "stdout"
        }
      ]
    },
    {
      "cell_type": "code",
      "metadata": {
        "colab": {
          "base_uri": "https://localhost:8080/"
        },
        "id": "ECG00hCjIOSr",
        "outputId": "6147e5e8-be63-408c-9cbf-ae207a4529a8"
      },
      "source": [
        "age=int(input('enter your age'))\n",
        "\n",
        "if age<=4:\n",
        "  price = 0\n",
        "\n",
        "elif 5<=age<=18: #shortcut ...thanks to Rohit and Harsh\n",
        "  price = 100\n",
        "\n",
        "else:\n",
        "  price=150\n",
        "\n",
        "print(price)"
      ],
      "execution_count": null,
      "outputs": [
        {
          "output_type": "stream",
          "text": [
            "enter your age18\n",
            "100\n"
          ],
          "name": "stdout"
        }
      ]
    },
    {
      "cell_type": "code",
      "metadata": {
        "colab": {
          "base_uri": "https://localhost:8080/"
        },
        "id": "FDy22_nAJJLf",
        "outputId": "1c6884dd-5e99-4f25-c278-5c2f8d050fce"
      },
      "source": [
        "#Nested if\n",
        "\n",
        "x=int(input('enter value for x'))\n",
        "\n",
        "if x>=10:\n",
        "  print('greater than 10')\n",
        "\n",
        "  if x>=20:\n",
        "    print('x is greater than 20')\n",
        "\n",
        "  else:\n",
        "    print('greater than 10 but not greater than 20')\n",
        "\n",
        "else:\n",
        "  print(' x is smaller than 10')"
      ],
      "execution_count": null,
      "outputs": [
        {
          "output_type": "stream",
          "text": [
            "enter value for x20\n",
            "greater than 10\n",
            "greater than 10 but not greater than 20\n"
          ],
          "name": "stdout"
        }
      ]
    },
    {
      "cell_type": "markdown",
      "metadata": {
        "id": "cDkOWzVsMS3D"
      },
      "source": [
        "Take a number from user and check if the number is 0, negative or positive. Display your result"
      ]
    },
    {
      "cell_type": "code",
      "metadata": {
        "colab": {
          "base_uri": "https://localhost:8080/"
        },
        "id": "dTYhz1nGL1Q2",
        "outputId": "fdc85f8b-2002-49ce-b482-bb190e60f5c7"
      },
      "source": [
        "x=int(input('enter value for x'))\n",
        "\n",
        "if x>=0:\n",
        "\n",
        "  if x==0:\n",
        "    print('x is zero')\n",
        "\n",
        "  else:\n",
        "    print('x is +ve')\n",
        "\n",
        "else:\n",
        "  print('x is -ve')"
      ],
      "execution_count": null,
      "outputs": [
        {
          "output_type": "stream",
          "text": [
            "enter value for x7\n",
            "x is +ve\n"
          ],
          "name": "stdout"
        }
      ]
    },
    {
      "cell_type": "code",
      "metadata": {
        "id": "xl-0T8rxNfrW"
      },
      "source": [
        "sampledict={\n",
        "\n",
        "}"
      ],
      "execution_count": null,
      "outputs": []
    }
  ]
}