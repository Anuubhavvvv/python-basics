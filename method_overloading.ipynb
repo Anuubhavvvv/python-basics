{
  "nbformat": 4,
  "nbformat_minor": 0,
  "metadata": {
    "colab": {
      "provenance": [],
      "include_colab_link": true
    },
    "kernelspec": {
      "name": "python3",
      "display_name": "Python 3"
    },
    "language_info": {
      "name": "python"
    }
  },
  "cells": [
    {
      "cell_type": "markdown",
      "metadata": {
        "id": "view-in-github",
        "colab_type": "text"
      },
      "source": [
        "<a href=\"https://colab.research.google.com/github/Anuubhavvvv/python-basics/blob/main/method_overloading.ipynb\" target=\"_parent\"><img src=\"https://colab.research.google.com/assets/colab-badge.svg\" alt=\"Open In Colab\"/></a>"
      ]
    },
    {
      "cell_type": "code",
      "metadata": {
        "id": "x7yNJk9-9zT9"
      },
      "source": [
        "class Student:\n",
        "\n",
        "  def __init__(self,m1,m2):\n",
        "    self.m1=m1\n",
        "    self.m2=m2\n",
        "\n",
        "  def sum(self, a=None,b=None,c=None):\n",
        "\n",
        "    s=0\n",
        "\n",
        "    if a!=None and b!=None and c!=None:\n",
        "\n",
        "      s=a+b+c\n",
        "\n",
        "    elif a!=None and b!=None: #value for c is not given\n",
        "\n",
        "      s=a+b\n",
        "\n",
        "    else:\n",
        "      s=a\n",
        "\n",
        "    return s\n",
        "\n"
      ],
      "execution_count": null,
      "outputs": []
    },
    {
      "cell_type": "code",
      "metadata": {
        "id": "KRu65m446Ljr"
      },
      "source": [
        "s1=Student(12,34)\n",
        "s1.sum(12,65,23)"
      ],
      "execution_count": null,
      "outputs": []
    },
    {
      "cell_type": "code",
      "metadata": {
        "id": "bcmBDs263sza"
      },
      "source": [
        "class Students:\n",
        " def __init__(self,m1,m2):\n",
        "   self.m1=m1\n",
        "   self.m2=m2\n",
        " def sum(self,a=None,b=None,c=None):\n",
        "   s=0\n",
        "   if a!=None and b!=None and c!=None:\n",
        "    s=a+b+c\n",
        "   elif a!=None and b!=None:\n",
        "    s=a+b\n",
        "   else:\n",
        "    s=a\n",
        "    return s"
      ],
      "execution_count": null,
      "outputs": []
    },
    {
      "cell_type": "code",
      "metadata": {
        "id": "LT9GVHhK37og"
      },
      "source": [
        "S1=Students(12,63)"
      ],
      "execution_count": null,
      "outputs": []
    },
    {
      "cell_type": "code",
      "metadata": {
        "id": "LIUXy_u23zOa"
      },
      "source": [
        "S1.sum(12,34,45)"
      ],
      "execution_count": null,
      "outputs": []
    }
  ]
}