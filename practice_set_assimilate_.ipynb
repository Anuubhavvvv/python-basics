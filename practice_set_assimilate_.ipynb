{
  "nbformat": 4,
  "nbformat_minor": 0,
  "metadata": {
    "colab": {
      "provenance": [],
      "authorship_tag": "ABX9TyMDk7ZgqNRnaKdRYHjIanD0",
      "include_colab_link": true
    },
    "kernelspec": {
      "name": "python3",
      "display_name": "Python 3"
    },
    "language_info": {
      "name": "python"
    }
  },
  "cells": [
    {
      "cell_type": "markdown",
      "metadata": {
        "id": "view-in-github",
        "colab_type": "text"
      },
      "source": [
        "<a href=\"https://colab.research.google.com/github/Anuubhavvvv/python-basics/blob/main/practice_set_assimilate_.ipynb\" target=\"_parent\"><img src=\"https://colab.research.google.com/assets/colab-badge.svg\" alt=\"Open In Colab\"/></a>"
      ]
    },
    {
      "cell_type": "markdown",
      "metadata": {
        "id": "ODUx6BnqmF6M"
      },
      "source": [
        "Write a progrm to demonstrate different data types"
      ]
    },
    {
      "cell_type": "code",
      "metadata": {
        "colab": {
          "base_uri": "https://localhost:8080/"
        },
        "id": "zvXlbsBOl3Am",
        "outputId": "0595257a-ab59-4292-a0c9-258c758f521e"
      },
      "source": [
        "a=10\n",
        "b=10.5\n",
        "c='ball'\n",
        "print(type(a))\n",
        "print(type(b))\n",
        "print(type(c))"
      ],
      "execution_count": null,
      "outputs": [
        {
          "output_type": "stream",
          "text": [
            "<class 'int'>\n",
            "<class 'float'>\n",
            "<class 'str'>\n"
          ],
          "name": "stdout"
        }
      ]
    },
    {
      "cell_type": "markdown",
      "metadata": {
        "id": "wnWod0f3mzKd"
      },
      "source": [
        "write a progrm to perform different arithematic operations on number"
      ]
    },
    {
      "cell_type": "code",
      "metadata": {
        "colab": {
          "base_uri": "https://localhost:8080/"
        },
        "id": "JjZ2zL5vnAdE",
        "outputId": "b32c1af1-1590-4f0f-ae9c-5438f321e06f"
      },
      "source": [
        "a=int(input(\"enter no. a\"))\n",
        "b=int(input(\"enter no. b\"))\n",
        "sum=a+b\n",
        "diff=a-b\n",
        "div=a/b\n",
        "product=a*b\n",
        "exponent=a**b\n",
        "print(\"sum\",sum)\n",
        "print(\"diff\",diff)\n",
        "print('div',div)\n",
        "print(\"product\",product)\n",
        "print(\"product\",exponent)"
      ],
      "execution_count": null,
      "outputs": [
        {
          "output_type": "stream",
          "text": [
            "enter no. a2\n",
            "enter no. b3\n",
            "sum 5\n",
            "diff -1\n",
            "div 0.6666666666666666\n",
            "product 6\n",
            "product 8\n"
          ],
          "name": "stdout"
        }
      ]
    },
    {
      "cell_type": "markdown",
      "metadata": {
        "id": "Ewfx-voZoI_K"
      },
      "source": [
        "Write a program to create , concatenate and print a string and accessing sub string from a give a string\n"
      ]
    },
    {
      "cell_type": "code",
      "metadata": {
        "colab": {
          "base_uri": "https://localhost:8080/"
        },
        "id": "Xnmj9fHsodVj",
        "outputId": "ba80cff2-4ba2-4165-cabd-efbb93b6a702"
      },
      "source": [
        "a=str(input('enter the 1st string'))\n",
        "b=str(input('enter the 2nd string'))\n",
        "print(\"Concatenated string\",a+b)\n",
        "print(\"substring\",a[1:4])"
      ],
      "execution_count": null,
      "outputs": [
        {
          "output_type": "stream",
          "text": [
            "enter the 1st stringanubhav\n",
            "enter the 2nd stringsharma\n",
            "Concatenated string anubhavsharma\n",
            "substring nub\n"
          ],
          "name": "stdout"
        }
      ]
    },
    {
      "cell_type": "markdown",
      "metadata": {
        "id": "aMv8IBsnpYc2"
      },
      "source": [
        "write a program to print current date\n"
      ]
    },
    {
      "cell_type": "code",
      "metadata": {
        "colab": {
          "base_uri": "https://localhost:8080/"
        },
        "id": "wbjGVoBmplj1",
        "outputId": "7c87f4f5-6716-4340-f2f3-4a42e34b0f64"
      },
      "source": [
        "import time;\n",
        "ltime=time.localtime();\n",
        "print(time.strftime(\"%a %b %d %H:%M:%S %Z %Y\",ltime))"
      ],
      "execution_count": null,
      "outputs": [
        {
          "output_type": "stream",
          "text": [
            "Fri Aug 06 04:15:28 UTC 2021\n"
          ],
          "name": "stdout"
        }
      ]
    },
    {
      "cell_type": "markdown",
      "metadata": {
        "id": "K0PJWbXJrMuB"
      },
      "source": [
        "Write a program to create,append and remove lists in python\n"
      ]
    },
    {
      "cell_type": "code",
      "metadata": {
        "colab": {
          "base_uri": "https://localhost:8080/"
        },
        "id": "DFObpFEar9AQ",
        "outputId": "18e7a39c-d390-4524-ac3d-fa7258dbd446"
      },
      "source": [
        "l1=[1,2,3,456,678,2,3,5]\n",
        "l1.append(8)\n",
        "print(l1)"
      ],
      "execution_count": null,
      "outputs": [
        {
          "output_type": "stream",
          "text": [
            "[1, 2, 3, 456, 678, 2, 3, 5, 8]\n"
          ],
          "name": "stdout"
        }
      ]
    },
    {
      "cell_type": "code",
      "metadata": {
        "colab": {
          "base_uri": "https://localhost:8080/"
        },
        "id": "GnzIEHf_sZka",
        "outputId": "30a676a4-5974-4a2f-ed52-8a5de4bd427b"
      },
      "source": [
        "del l1[3]\n",
        "print(l1)"
      ],
      "execution_count": null,
      "outputs": [
        {
          "output_type": "stream",
          "text": [
            "[1, 2, 3, 678, 2, 3, 5, 8]\n"
          ],
          "name": "stdout"
        }
      ]
    },
    {
      "cell_type": "code",
      "metadata": {
        "colab": {
          "base_uri": "https://localhost:8080/"
        },
        "id": "XgLVQPg-srpa",
        "outputId": "1fac3edd-fce5-4cdc-858c-c80cc11d8524"
      },
      "source": [
        "del l1[1:3]\n",
        "print(l1)"
      ],
      "execution_count": null,
      "outputs": [
        {
          "output_type": "stream",
          "text": [
            "[1, 3, 5, 8]\n"
          ],
          "name": "stdout"
        }
      ]
    },
    {
      "cell_type": "markdown",
      "metadata": {
        "id": "-lt-fTgPsq0T"
      },
      "source": [
        "write a python program to find largest of the three numbers\n"
      ]
    },
    {
      "cell_type": "code",
      "metadata": {
        "colab": {
          "base_uri": "https://localhost:8080/"
        },
        "id": "FVzDWhMTtAKs",
        "outputId": "c4b6e713-61a0-482e-a58b-d9810d30a709"
      },
      "source": [
        "n1=int(input(\"Enter first number\"))\n",
        "n2=int(input(\"Enter second number\"))\n",
        "n3=int(input('Enter the third'))\n",
        "if n1>n2 and n1>n3:\n",
        "  print(n1,\"is the largest\")\n",
        "elif n2>n3 and n2>n1:\n",
        "  print(n2,\"is the largest\")\n",
        "else :\n",
        "  print(n3,\"is the largest\")"
      ],
      "execution_count": null,
      "outputs": [
        {
          "output_type": "stream",
          "text": [
            "Enter first number14\n",
            "Enter second number15\n",
            "Enter the third17\n",
            "17 is the largest\n"
          ],
          "name": "stdout"
        }
      ]
    },
    {
      "cell_type": "markdown",
      "metadata": {
        "id": "kCkYI0cQucc5"
      },
      "source": [
        "Write a program to convert temperatures from celsius to farenheit"
      ]
    },
    {
      "cell_type": "code",
      "metadata": {
        "id": "pwsyKs_ouoNN",
        "colab": {
          "base_uri": "https://localhost:8080/"
        },
        "outputId": "6f00499d-01d9-4f58-a8f7-475d6c4200f3"
      },
      "source": [
        "T1= float(input(\"enter the temp\"))\n",
        "unit= input(\"C= celsius & F = farenheit\")\n",
        "if unit == 'C':\n",
        "  newtemp = 9/5*T1+32\n",
        "  print(\"Temprature in farenheit=\",newtemp)\n",
        "elif unit=='F':\n",
        " newtemp =5/9*(temp-32)\n",
        " print('Temprature in celsius=',newtemp)"
      ],
      "execution_count": null,
      "outputs": [
        {
          "output_type": "stream",
          "text": [
            "enter the temp45\n",
            "C= celsius & F = farenheitC\n",
            "Temprature in farenheit= 113.0\n"
          ],
          "name": "stdout"
        }
      ]
    },
    {
      "cell_type": "markdown",
      "metadata": {
        "id": "_fXwRoXjGvpR"
      },
      "source": [
        "write a program to make the pattern\n"
      ]
    },
    {
      "cell_type": "code",
      "metadata": {
        "colab": {
          "base_uri": "https://localhost:8080/"
        },
        "id": "fWX8i2yvHY0w",
        "outputId": "d0ca2942-5948-48a7-f1de-fba708a4b8c8"
      },
      "source": [
        "n=5\n",
        "for i in range(n):\n",
        "  for a in range(i):\n",
        "    print('*',end=\"\")\n",
        "  print('')\n",
        "for i in range(n,0,-1):\n",
        "  for a in range(i):\n",
        "    print('*', end=\"\")\n",
        "  print('')"
      ],
      "execution_count": null,
      "outputs": [
        {
          "output_type": "stream",
          "text": [
            "\n",
            "*\n",
            "**\n",
            "***\n",
            "****\n",
            "*****\n",
            "****\n",
            "***\n",
            "**\n",
            "*\n"
          ],
          "name": "stdout"
        }
      ]
    },
    {
      "cell_type": "markdown",
      "metadata": {
        "id": "QViBpvZsIlg5"
      },
      "source": [
        "write a python program to find factorial of a number using recursion\\\n"
      ]
    },
    {
      "cell_type": "code",
      "metadata": {
        "colab": {
          "base_uri": "https://localhost:8080/"
        },
        "id": "oI_9xW08IwM-",
        "outputId": "7d34aeb8-71b3-44ed-e46e-fc4bf7442acc"
      },
      "source": [
        "def factorial(n):\n",
        "  if n==1:\n",
        "    return n\n",
        "  else :\n",
        "    return n*factorial(n-1)\n",
        "num=int(input(\"Enter a number \"))\n",
        "if num<0:\n",
        "  print('factorial for negative number doesnot exist')\n",
        "elif num==0:\n",
        "  print('factorial for zero is 1')\n",
        "else:\n",
        "  print('The factorial is',num,'is',factorial(num))\n"
      ],
      "execution_count": null,
      "outputs": [
        {
          "output_type": "stream",
          "text": [
            "Enter a number 5\n",
            "The factorial is 5 is 120\n"
          ],
          "name": "stdout"
        }
      ]
    },
    {
      "cell_type": "markdown",
      "metadata": {
        "id": "0g3TkI5nLpg4"
      },
      "source": [
        "write a program to chech the triangle is right angled triangle or not\n"
      ]
    },
    {
      "cell_type": "code",
      "metadata": {
        "colab": {
          "base_uri": "https://localhost:8080/"
        },
        "id": "pn1PYz_pLpD8",
        "outputId": "3da2cf5a-873c-4deb-f52e-e2775121bd23"
      },
      "source": [
        "b=float(input(\"Enter the length of base\"))\n",
        "p=float(input(\"Enter the length of perpendicular\"))\n",
        "h=float(input(\"Enter the length of hypotenuse\"))\n",
        "if h**2==((b**2)+(p**2)):\n",
        "  print('the triangle is right angle triangle')\n",
        "else :\n",
        "  print(\"the triangle is not right angle triangle\")"
      ],
      "execution_count": null,
      "outputs": [
        {
          "output_type": "stream",
          "text": [
            "Enter the length of base4\n",
            "Enter the length of perpendicular3\n",
            "Enter the length of hypotenuse5\n",
            "the triangle is right angle triangle\n"
          ],
          "name": "stdout"
        }
      ]
    },
    {
      "cell_type": "markdown",
      "metadata": {
        "id": "wMAEpIRqNzIU"
      },
      "source": []
    },
    {
      "cell_type": "code",
      "metadata": {
        "id": "v0UgNoFbMu6L"
      },
      "source": [],
      "execution_count": null,
      "outputs": []
    }
  ]
}